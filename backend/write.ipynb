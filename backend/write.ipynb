{
 "cells": [
  {
   "cell_type": "code",
   "execution_count": 5,
   "id": "bec27597",
   "metadata": {},
   "outputs": [
    {
     "name": "stdout",
     "output_type": "stream",
     "text": [
      "Column 'day' ensured and first 23 rows set to 0\n"
     ]
    }
   ],
   "source": [
    "import sqlite3\n",
    "\n",
    "db_path = '/Users/eriq/Desktop/sentence-tree/backend/test_sentence_tree.db'\n",
    "\n",
    "conn = sqlite3.connect(db_path)\n",
    "cur = conn.cursor()\n",
    "\n",
    "# Ensure 'day' column exists, then set day=0 on the first 23 rows only.\n",
    "cur.execute(\"PRAGMA table_info(user_input)\")\n",
    "columns = [col[1] for col in cur.fetchall()]\n",
    "if 'day' not in columns:\n",
    "    cur.execute(\"ALTER TABLE user_input ADD COLUMN day INTEGER DEFAULT 7\")\n",
    "\n",
    "cur.execute(\"\"\"\n",
    "    UPDATE user_input\n",
    "    SET day = 0\n",
    "    WHERE rowid IN (\n",
    "        SELECT rowid FROM user_input ORDER BY rowid LIMIT 23\n",
    "    )\n",
    "\"\"\")\n",
    "\n",
    "conn.commit()\n",
    "print(\"Column 'day' ensured and first 23 rows set to 0\")\n"
   ]
  }
 ],
 "metadata": {
  "kernelspec": {
   "display_name": "base",
   "language": "python",
   "name": "python3"
  },
  "language_info": {
   "codemirror_mode": {
    "name": "ipython",
    "version": 3
   },
   "file_extension": ".py",
   "mimetype": "text/x-python",
   "name": "python",
   "nbconvert_exporter": "python",
   "pygments_lexer": "ipython3",
   "version": "3.10.13"
  }
 },
 "nbformat": 4,
 "nbformat_minor": 5
}
